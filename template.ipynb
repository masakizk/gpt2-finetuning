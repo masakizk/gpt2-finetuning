{
 "cells": [
  {
   "cell_type": "code",
   "execution_count": 1,
   "metadata": {},
   "outputs": [],
   "source": [
    "from transformers import AutoTokenizer, AutoModelForCausalLM\n",
    "import torch"
   ]
  },
  {
   "cell_type": "code",
   "execution_count": 2,
   "metadata": {},
   "outputs": [
    {
     "data": {
      "text/plain": [
       "'cuda'"
      ]
     },
     "execution_count": 2,
     "metadata": {},
     "output_type": "execute_result"
    }
   ],
   "source": [
    "device = \"cuda\" if torch.cuda.is_available() else \"cpu\"\n",
    "device"
   ]
  },
  {
   "cell_type": "code",
   "execution_count": 4,
   "metadata": {},
   "outputs": [],
   "source": [
    "tokenizer = AutoTokenizer.from_pretrained(\"rinna/japanese-gpt2-medium\", use_fast=False)\n",
    "tokenizer.do_lower_case = True  # due to some bug of tokenizer config loading\n",
    "\n",
    "model = AutoModelForCausalLM.from_pretrained(\"rinna/japanese-gpt2-medium\").to(device)"
   ]
  },
  {
   "cell_type": "code",
   "execution_count": 5,
   "metadata": {},
   "outputs": [
    {
     "name": "stderr",
     "output_type": "stream",
     "text": [
      "The attention mask and the pad token id were not set. As a consequence, you may observe unexpected behavior. Please pass your input's `attention_mask` to obtain reliable results.\n",
      "Setting `pad_token_id` to `eos_token_id`:2 for open-end generation.\n",
      "A decoder-only architecture is being used, but right-padding was detected! For correct generation results, please set `padding_side='left'` when initializing the tokenizer.\n"
     ]
    },
    {
     "data": {
      "text/plain": [
       "['こんにちは、</s>ゆかです! ちょっと前になりますが、僕の会社の新入社員の研修で 社員旅行が... こんばんは、 管理人のゆかです。 前回の続きです。 さて、僕がお客様とやり取り中に よく質問されるので、今回はこ... こんばんは、 管理人のゆかです。 最近は 毎日 暑い日が続いていますね!? 気温が',\n",
       " 'こんにちは、</s>今回は、お店のホームページを作る上で押さえておきたいホームページ制作についてお話しします。 ホームページ制作をする時って何をどうやって作り、 どこに注意したらいいのでしょうか? 今回は、ホームページ制作を行う上で注意点などを まとめてみました。 まずは、今回のテーマである「ホームページ制作について お客様のご要望をヒアリングさせて頂くときのポイント 」ということですが・・・。 ホームページ',\n",
       " 'こんにちは、</s>昨日からご紹介するレシピは、 卵を使った簡単、ヘルシーなローストビーフを作ります。 材料 ・玉ねぎ ・ピーマン ・豚肉(3枚) ・肉団子(2枚) ・豚肉(... こんにちは、 本日は簡単に出来る「鶏肉のローストピザ」をご紹介します。 材料 ・鶏肉 ・ピーマン ・豚肉(3枚)',\n",
       " 'こんにちは、</s> 今回もブログを 最後までお読みいただき 本当にありがとうございます。 また、今週から来週の月曜日まで 1週間分の更新になります。 今週... こんにちは、 今日から ブログ 毎日更新していくことにします。 今日のブログのタイトルに 私は この言葉 はりきって います。 今回は【言葉の重み】についてです。 まあ、そう言...</s></s>',\n",
       " 'こんにちは、</s>ご訪問頂きありがとうございます。 今日から11月。冬休みモードで会社に行っていらっしゃる方も多いのではないでしょうか? 私もその一人です。 さて、今日は、 「この冬、絶対にやっておきたいお仕事術ベスト3」の 1人です♪ え? え(笑) でも、もうすぐお出かけなので、今すぐは無理ですけど・・・']"
      ]
     },
     "execution_count": 5,
     "metadata": {},
     "output_type": "execute_result"
    }
   ],
   "source": [
    "input = tokenizer.encode(\"こんにちは、\", return_tensors=\"pt\").to(device)\n",
    "output = model.generate(\n",
    "    input,\n",
    "    do_sample=True,\n",
    "    max_length=100,\n",
    "    num_return_sequences=5,\n",
    ")\n",
    "tokenizer.batch_decode(output)"
   ]
  }
 ],
 "metadata": {
  "kernelspec": {
   "display_name": "gpt_rinna_finetuning",
   "language": "python",
   "name": "python3"
  },
  "language_info": {
   "codemirror_mode": {
    "name": "ipython",
    "version": 3
   },
   "file_extension": ".py",
   "mimetype": "text/x-python",
   "name": "python",
   "nbconvert_exporter": "python",
   "pygments_lexer": "ipython3",
   "version": "3.7.13"
  },
  "orig_nbformat": 4
 },
 "nbformat": 4,
 "nbformat_minor": 2
}
